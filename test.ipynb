{
 "cells": [
  {
   "cell_type": "code",
   "execution_count": 1,
   "metadata": {},
   "outputs": [],
   "source": [
    "import torch\n",
    "import torch.nn as nn\n",
    "import torch.nn.functional as F\n",
    "from torch_geometric.data import Data\n",
    "import torch_geometric.nn as pyg_nn\n",
    "import torch_geometric.nn.pool.glob as pool\n",
    "from sports_gnn.common import *\n",
    "from sports_gnn.model import SportsGNN"
   ]
  },
  {
   "cell_type": "code",
   "execution_count": 2,
   "metadata": {},
   "outputs": [],
   "source": [
    "class Model(nn.Module):\n",
    "    def __init__(self):\n",
    "        super().__init__()\n",
    "        self.conv1 = pyg_nn.GCNConv(3, 8)\n",
    "        self.conv2 = pyg_nn.GCNConv(8, 16)\n",
    "        self.linear = nn.Linear(16, 2)\n",
    "\n",
    "    def forward(self, data):\n",
    "        x, edge_index = data.x, data.edge_index\n",
    "        \n",
    "        x = self.conv1(x, edge_index)\n",
    "        x = F.relu(x)\n",
    "        x = self.conv2(x, edge_index)\n",
    "        x = F.relu(x)\n",
    "        print(x)\n",
    "        x = pool.global_mean_pool(x, None)\n",
    "        print(x)\n",
    "        x = self.linear(x)\n",
    "        x = F.softmax(x)\n",
    "        return x\n",
    "        "
   ]
  },
  {
   "cell_type": "code",
   "execution_count": 3,
   "metadata": {},
   "outputs": [],
   "source": [
    "num_player = 22\n",
    "num_feature = 3\n",
    "\n",
    "x = torch.rand(num_player, num_feature)\n",
    "\n",
    "edge_index = []\n",
    "\n",
    "for i in range(num_player):\n",
    "    for j in range(num_player):\n",
    "        edge_index.append([i, j])\n",
    "\n",
    "edge_index = torch.tensor(edge_index)\n",
    "\n",
    "data = Data(x=x, edge_index=edge_index.t().contiguous())"
   ]
  },
  {
   "cell_type": "code",
   "execution_count": 4,
   "metadata": {},
   "outputs": [
    {
     "data": {
      "text/plain": [
       "Data(x=[22, 3], edge_index=[2, 484])"
      ]
     },
     "execution_count": 4,
     "metadata": {},
     "output_type": "execute_result"
    }
   ],
   "source": [
    "data"
   ]
  },
  {
   "cell_type": "code",
   "execution_count": 6,
   "metadata": {},
   "outputs": [
    {
     "name": "stdout",
     "output_type": "stream",
     "text": [
      "SportsGNN(\n",
      "  (gat_block): GATBlock(\n",
      "    (convs): ModuleList(\n",
      "      (0): BatchNorm1d(3, eps=1e-05, momentum=0.1, affine=True, track_running_stats=True)\n",
      "      (1): GATv2Conv(3, 16, heads=2)\n",
      "      (2): BatchNorm1d(32, eps=1e-05, momentum=0.1, affine=True, track_running_stats=True)\n",
      "      (3): GATv2Conv(32, 16, heads=2)\n",
      "      (4): BatchNorm1d(32, eps=1e-05, momentum=0.1, affine=True, track_running_stats=True)\n",
      "      (5): GATv2Conv(32, 8, heads=2)\n",
      "    )\n",
      "  )\n",
      "  (sum_pool): SumPool(\n",
      "    (linear1): Linear(in_features=16, out_features=32, bias=True)\n",
      "    (linear2): Linear(in_features=32, out_features=16, bias=True)\n",
      "  )\n",
      "  (game_state_encoder): Linear(in_features=16, out_features=16, bias=True)\n",
      "  (res_mlp): ResMLP(\n",
      "    (linear1): Linear(in_features=16, out_features=16, bias=True)\n",
      "    (linear2): Linear(in_features=16, out_features=16, bias=True)\n",
      "  )\n",
      "  (lstm_block): LSTMBlock(\n",
      "    (lstm): LSTM(16, 16, num_layers=2)\n",
      "    (fc): Linear(in_features=16, out_features=2, bias=True)\n",
      "  )\n",
      "  (softmax): Softmax(dim=1)\n",
      ")\n",
      "tensor([[0.5546, 0.4454]], grad_fn=<SoftmaxBackward0>)\n"
     ]
    }
   ],
   "source": [
    "model = SportsGNN()\n",
    "print(model)\n",
    "\n",
    "hn, cn = model.init()\n",
    "\n",
    "output, hn, cn = model(data, None, hn, cn)\n",
    "\n",
    "print(output)"
   ]
  }
 ],
 "metadata": {
  "kernelspec": {
   "display_name": "Python 3.9.7 ('base')",
   "language": "python",
   "name": "python3"
  },
  "language_info": {
   "codemirror_mode": {
    "name": "ipython",
    "version": 3
   },
   "file_extension": ".py",
   "mimetype": "text/x-python",
   "name": "python",
   "nbconvert_exporter": "python",
   "pygments_lexer": "ipython3",
   "version": "3.9.7"
  },
  "orig_nbformat": 4,
  "vscode": {
   "interpreter": {
    "hash": "1b5c637c5c17e7841ce3b55fac6772e1460db6e5f5b3923b76ec2696de093845"
   }
  }
 },
 "nbformat": 4,
 "nbformat_minor": 2
}
